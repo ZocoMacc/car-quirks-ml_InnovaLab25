{
 "cells": [
  {
   "cell_type": "code",
   "execution_count": null,
   "id": "45355ab9",
   "metadata": {},
   "outputs": [],
   "source": [
    "print(\"uwu\")"
   ]
  }
 ],
 "metadata": {
  "language_info": {
   "name": "python"
  }
 },
 "nbformat": 4,
 "nbformat_minor": 5
}
