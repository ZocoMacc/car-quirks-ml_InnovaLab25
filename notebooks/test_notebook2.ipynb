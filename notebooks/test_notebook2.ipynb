{
  "cells": [
    {
      "cell_type": "code",
      "execution_count": null,
      "id": "45355ab9",
      "metadata": {
        "id": "45355ab9"
      },
      "outputs": [],
      "source": [
        "print(\"uwu\")\n",
        "test = \"test\"\n",
        "print(\"test\")"
      ]
    },
    {
      "cell_type": "code",
      "source": [
        "print(\"wea\")"
      ],
      "metadata": {
        "id": "7MyXGpK5y8kT",
        "outputId": "966a3d00-f794-4d1c-e2ae-dc397810a945",
        "colab": {
          "base_uri": "https://localhost:8080/"
        }
      },
      "id": "7MyXGpK5y8kT",
      "execution_count": null,
      "outputs": [
        {
          "output_type": "stream",
          "name": "stdout",
          "text": [
            "wea\n"
          ]
        }
      ]
    },
    {
      "cell_type": "code",
      "source": [
        "from sklearn.datasets import load_iris\n",
        "from sklearn.model_selection import train_test_split\n",
        "from sklearn.neighbors import KNeighborsClassifier\n"
      ],
      "metadata": {
        "id": "W2U1KX5F1Xme"
      },
      "id": "W2U1KX5F1Xme",
      "execution_count": 5,
      "outputs": []
    },
    {
      "cell_type": "code",
      "source": [],
      "metadata": {
        "id": "qhbPR8El1gb9"
      },
      "id": "qhbPR8El1gb9",
      "execution_count": null,
      "outputs": []
    }
  ],
  "metadata": {
    "language_info": {
      "name": "python"
    },
    "colab": {
      "provenance": []
    },
    "kernelspec": {
      "name": "python3",
      "display_name": "Python 3"
    }
  },
  "nbformat": 4,
  "nbformat_minor": 5
}