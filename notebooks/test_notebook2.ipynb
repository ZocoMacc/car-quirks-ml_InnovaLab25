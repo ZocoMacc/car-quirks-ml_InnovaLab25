{
  "cells": [
    {
      "cell_type": "code",
      "execution_count": null,
      "id": "45355ab9",
      "metadata": {
        "id": "45355ab9"
      },
      "outputs": [],
      "source": [
        "print(\"uwu\")\n",
        "test = \"test\"\n",
        "print(\"test\")"
      ]
    }
  ],
  "metadata": {
    "language_info": {
      "name": "python"
    },
    "colab": {
      "provenance": []
    },
    "kernelspec": {
      "name": "python3",
      "display_name": "Python 3"
    }
  },
  "nbformat": 4,
  "nbformat_minor": 5
}