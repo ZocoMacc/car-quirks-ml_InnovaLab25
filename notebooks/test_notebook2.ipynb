{
  "cells": [
    {
      "cell_type": "code",
      "execution_count": null,
      "id": "45355ab9",
      "metadata": {
        "id": "45355ab9"
      },
      "outputs": [],
      "source": [
        "print(\"uwu\")\n",
        "test = \"test\"\n",
        "print(\"test\")"
      ]
    },
    {
      "cell_type": "code",
      "source": [],
      "metadata": {
        "id": "oL1pY8P-y8WW"
      },
      "id": "oL1pY8P-y8WW",
      "execution_count": null,
      "outputs": []
    },
    {
      "cell_type": "code",
      "source": [
        "print(\"wea\")"
      ],
      "metadata": {
        "id": "7MyXGpK5y8kT",
        "outputId": "966a3d00-f794-4d1c-e2ae-dc397810a945",
        "colab": {
          "base_uri": "https://localhost:8080/"
        }
      },
      "id": "7MyXGpK5y8kT",
      "execution_count": 6,
      "outputs": [
        {
          "output_type": "stream",
          "name": "stdout",
          "text": [
            "wea\n"
          ]
        }
      ]
    }
  ],
  "metadata": {
    "language_info": {
      "name": "python"
    },
    "colab": {
      "provenance": []
    },
    "kernelspec": {
      "name": "python3",
      "display_name": "Python 3"
    }
  },
  "nbformat": 4,
  "nbformat_minor": 5
}