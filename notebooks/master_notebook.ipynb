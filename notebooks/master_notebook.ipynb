{
  "cells": [
    {
      "cell_type": "code",
      "source": [
        "import pandas as pd\n",
        "from sklearn.model_selection import train_test_split\n",
        "from sklearn.preprocessing import LabelEncoder\n",
        "from sklearn.tree import DecisionTreeClassifier\n",
        "from sklearn.metrics import classification_report, confusion_matrix\n",
        "import seaborn as sns\n",
        "import matplotlib.pyplot as plt\n",
        "import joblib\n",
        "import numpy as np\n",
        "\n",
        "# 1. Cargar los datos\n",
        "df = pd.read_csv('https://gist.githubusercontent.com/javierIA/3ffc35bf38853a028136881a66cd66d9/raw/a029b85d55c32761b546a2996f43b0dbdddd9de4/data.csv')  # Asegúrate de que el CSV esté en la misma carpeta\n",
        "\n",
        "# 2. Eliminar columnas innecesarias\n",
        "columns_to_drop = [\n",
        "    'name', 'combustible_estimado_l', 'eficiencia_km_l', 'potencia_motor_hp',\n",
        "    'nivel_seguridad', 'edad_auto', 'score_calidad'\n",
        "]\n",
        "df = df.drop(columns=columns_to_drop, errors='ignore')\n",
        "\n",
        "# 3. Codificación del target\n",
        "label_encoder = LabelEncoder()\n",
        "df['calidad_auto'] = label_encoder.fit_transform(df['calidad_auto'])\n",
        "\n",
        "# 4. Codificación One-Hot de columnas categóricas\n",
        "df = pd.get_dummies(df, columns=['fuel', 'seller_type', 'owner', 'tipo_carroceria'], drop_first=True)\n",
        "\n",
        "# 5. Separar características y variable objetivo\n",
        "X = df.drop(columns=['calidad_auto'])\n",
        "y = df['calidad_auto']\n",
        "\n",
        "# 6. Dividir los datos\n",
        "X_train, X_test, y_train, y_test = train_test_split(X, y, test_size=0.2, random_state=42)\n",
        "\n",
        "# 7. Entrenar el modelo\n",
        "clf = DecisionTreeClassifier(max_depth=5, random_state=42)\n",
        "clf.fit(X_train, y_train)\n",
        "\n",
        "# 8. Guardar el modelo y columnas\n",
        "joblib.dump(clf, 'modelo_calidad_auto.pkl')\n",
        "joblib.dump(X.columns.tolist(), 'columnas_modelo.pkl')\n",
        "joblib.dump(label_encoder, 'label_encoder.pkl')\n",
        "\n",
        "# 9. Evaluación\n",
        "y_pred = clf.predict(X_test)\n",
        "print(\"Reporte de clasificación:\")\n",
        "print(classification_report(y_test, y_pred, target_names=label_encoder.classes_))\n",
        "\n",
        "# 10. Matriz de confusión\n",
        "cm = confusion_matrix(y_test, y_pred)\n",
        "sns.heatmap(cm, annot=True, fmt='d', cmap='Blues', xticklabels=label_encoder.classes_, yticklabels=label_encoder.classes_)\n",
        "plt.title(\"Matriz de Confusión\")\n",
        "plt.xlabel(\"Predicción\")\n",
        "plt.ylabel(\"Real\")\n",
        "plt.show()\n"
      ],
      "metadata": {
        "colab": {
          "base_uri": "https://localhost:8080/",
          "height": 663
        },
        "id": "qhbPR8El1gb9",
        "outputId": "898d86dd-daf9-483a-a8d9-1089321a34cf"
      },
      "id": "qhbPR8El1gb9",
      "execution_count": null,
      "outputs": [
        {
          "output_type": "stream",
          "name": "stdout",
          "text": [
            "Reporte de clasificación:\n",
            "              precision    recall  f1-score   support\n",
            "\n",
            "        Alta       0.83      0.76      0.79       212\n",
            "        Baja       0.93      0.42      0.58       118\n",
            "       Media       0.93      0.98      0.95      1670\n",
            "\n",
            "    accuracy                           0.92      2000\n",
            "   macro avg       0.89      0.72      0.78      2000\n",
            "weighted avg       0.92      0.92      0.91      2000\n",
            "\n"
          ]
        },
        {
          "output_type": "display_data",
          "data": {
            "text/plain": [
              "<Figure size 640x480 with 2 Axes>"
            ],
            "image/png": "[encoded data removed]"
          },
          "metadata": {}
        }
      ]
    },
    {
      "cell_type": "code",
      "source": [
        "print(\"uwu\")"
      ],
      "metadata": {
        "id": "XTlWFXtScgIw",
        "outputId": "18b08647-bf82-4169-fe1a-8bf1c58cb790",
        "colab": {
          "base_uri": "https://localhost:8080/"
        }
      },
      "id": "XTlWFXtScgIw",
      "execution_count": 1,
      "outputs": [
        {
          "output_type": "stream",
          "name": "stdout",
          "text": [
            "uwu\n"
          ]
        }
      ]
    },
    {
      "cell_type": "code",
      "source": [
        "print(\"hola mundo\")"
      ],
      "metadata": {
        "id": "Njsd498tabx2",
        "outputId": "ea156365-806b-44ad-adca-f9c64c247e3f",
        "colab": {
          "base_uri": "https://localhost:8080/"
        }
      },
      "id": "Njsd498tabx2",
      "execution_count": null,
      "outputs": [
        {
          "output_type": "stream",
          "name": "stdout",
          "text": [
            "hola mundo\n"
          ]
        }
      ]
    },
    {
      "cell_type": "code",
      "source": [
        "1+1\n"
      ],
      "metadata": {
        "id": "zfzudIi_atq1",
        "outputId": "f5c140e6-f563-4c24-9f3a-19448a40cb8f",
        "colab": {
          "base_uri": "https://localhost:8080/"
        }
      },
      "id": "zfzudIi_atq1",
      "execution_count": null,
      "outputs": [
        {
          "output_type": "execute_result",
          "data": {
            "text/plain": [
              "2"
            ]
          },
          "metadata": {},
          "execution_count": 1
        }
      ]
    }
  ],
  "metadata": {
    "language_info": {
      "name": "python"
    },
    "colab": {
      "provenance": []
    },
    "kernelspec": {
      "name": "python3",
      "display_name": "Python 3"
    }
  },
  "nbformat": 4,
  "nbformat_minor": 5
}